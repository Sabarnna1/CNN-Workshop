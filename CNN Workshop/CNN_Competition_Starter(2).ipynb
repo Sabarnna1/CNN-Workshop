{
 "cells": [
  {
   "cell_type": "markdown",
   "metadata": {
    "colab_type": "text",
    "id": "4SsIzip9mO8T"
   },
   "source": [
    "**To activate the GPU Support :**\n",
    "\n",
    "edit --> Notebook Settings --> Set \"Hardware Accelerator\" to GPU --> Save"
   ]
  },
  {
   "cell_type": "code",
   "execution_count": 0,
   "metadata": {
    "colab": {},
    "colab_type": "code",
    "id": "sis_tXgfmJS2"
   },
   "outputs": [],
   "source": [
    "from __future__ import print_function\n",
    "import keras\n",
    "from keras.datasets import cifar10\n",
    "from keras.preprocessing.image import ImageDataGenerator\n",
    "from keras.models import Sequential\n",
    "from keras.layers import Dense, Dropout, Activation, Flatten\n",
    "from keras.layers import Conv2D, MaxPooling2D\n",
    "from keras.utils import to_categorical\n",
    "import os\n",
    "import matplotlib.pyplot as plt\n",
    "import warnings\n",
    "warnings.filterwarnings('ignore')"
   ]
  },
  {
   "cell_type": "code",
   "execution_count": 0,
   "metadata": {
    "cellView": "code",
    "colab": {},
    "colab_type": "code",
    "id": "I1szjOhjXESg"
   },
   "outputs": [],
   "source": [
    "# DON'T CHANGE THIS\n",
    "#Download the image data\n",
    "(x_train, y_train), (x_test, y_test) = cifar10.load_data()"
   ]
  },
  {
   "cell_type": "code",
   "execution_count": 0,
   "metadata": {
    "colab": {},
    "colab_type": "code",
    "id": "DPpBmCrHXaqu"
   },
   "outputs": [],
   "source": [
    "\n",
    "print(x_train.shape)\n",
    "print(x_train.shape[0], 'train samples')\n",
    "print(x_test.shape[0], 'test samples')\n",
    "plt.imshow(x_train[7])"
   ]
  },
  {
   "cell_type": "code",
   "execution_count": 0,
   "metadata": {
    "cellView": "code",
    "colab": {},
    "colab_type": "code",
    "id": "PTxMZualaaiF"
   },
   "outputs": [],
   "source": [
    "# Convert class vectors to binary class matrices. (DO THIS ONLY IF USING 'CATEGORICAL_CROSSENTROPY' OTHERWISE DELETE THIS) \n",
    "y_train = to_categorical(y_train)\n",
    "y_test = to_categorical(y_test)"
   ]
  },
  {
   "cell_type": "code",
   "execution_count": 0,
   "metadata": {
    "colab": {},
    "colab_type": "code",
    "id": "NmXQov8F1q3d"
   },
   "outputs": [],
   "source": [
    "#STEP 1: Insert Model Here and add layers"
   ]
  },
  {
   "cell_type": "code",
   "execution_count": 0,
   "metadata": {
    "colab": {},
    "colab_type": "code",
    "id": "oJiKwI571qiX"
   },
   "outputs": [],
   "source": [
    "#STEP 2: Compile Model Here"
   ]
  },
  {
   "cell_type": "code",
   "execution_count": 0,
   "metadata": {
    "colab": {},
    "colab_type": "code",
    "id": "BOUEfmPf1nJS"
   },
   "outputs": [],
   "source": [
    "#STEP 3 (Optional): The highest number in the array is 255. It's often a good idea to normalize the data by dividing the entire array by 255.\n",
    "#However note that you will need to specify the datatype as Float32 to make this happen"
   ]
  },
  {
   "cell_type": "code",
   "execution_count": 0,
   "metadata": {
    "colab": {},
    "colab_type": "code",
    "id": "5pEmgCSEcI-6"
   },
   "outputs": [],
   "source": [
    "#STEP 4: Fit the Model here"
   ]
  },
  {
   "cell_type": "code",
   "execution_count": 0,
   "metadata": {
    "colab": {},
    "colab_type": "code",
    "id": "FcTOxYbFePPN"
   },
   "outputs": [],
   "source": [
    "#DON'T CHANGE THIS PART. Make sure your model name is the same as 'model' otherwise it may cause error if spelled differently\n",
    "# Score trained model.\n",
    "scores = model.evaluate(x_test, y_test, verbose=1)\n",
    "print('Test loss:', scores[0])\n",
    "print('Test accuracy:', scores[1])"
   ]
  },
  {
   "cell_type": "code",
   "execution_count": 0,
   "metadata": {
    "colab": {},
    "colab_type": "code",
    "id": "1IBfEZZ2Oqax"
   },
   "outputs": [],
   "source": [
    "# restart the kernel. COMPILE IT AFTER IF YOU CHANGE THE MODEL PARAMETER. AND RUN ALL THE SHELL FROM THE BEGINNING. \n",
    "\n",
    "import os\n",
    "os._exit(00)\n"
   ]
  }
 ],
 "metadata": {
  "accelerator": "GPU",
  "colab": {
   "collapsed_sections": [],
   "name": "CNN_Competition_Starter.ipynb",
   "provenance": []
  },
  "kernelspec": {
   "display_name": "Python 3",
   "language": "python",
   "name": "python3"
  },
  "language_info": {
   "codemirror_mode": {
    "name": "ipython",
    "version": 3
   },
   "file_extension": ".py",
   "mimetype": "text/x-python",
   "name": "python",
   "nbconvert_exporter": "python",
   "pygments_lexer": "ipython3",
   "version": "3.7.4"
  }
 },
 "nbformat": 4,
 "nbformat_minor": 1
}
